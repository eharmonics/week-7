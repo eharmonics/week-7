{
 "cells": [
  {
   "cell_type": "code",
   "execution_count": 15,
   "id": "89f82887",
   "metadata": {},
   "outputs": [],
   "source": []
  },
  {
   "cell_type": "code",
   "execution_count": 21,
   "id": "6f6ef63e",
   "metadata": {},
   "outputs": [
    {
     "name": "stdout",
     "output_type": "stream",
     "text": [
      "                          Alice  Bob  Charlie  Dave  Emma\n",
      "Dune                          5    4        3     4   2.0\n",
      "The French Dispatch           4    3        4     5   3.0\n",
      "No Time to Die                3    4        5     4   2.0\n",
      "The Matrix Resurrections      4    5        4     3   3.0\n",
      "The Power of the Dog          5    4        3     4   2.0\n",
      "Belfast                       4    3        4     5   NaN\n"
     ]
    },
    {
     "name": "stderr",
     "output_type": "stream",
     "text": [
      "C:\\Users\\EHTISH~1\\AppData\\Local\\Temp/ipykernel_668/437187384.py:11: FutureWarning: The pandas.np module is deprecated and will be removed from pandas in a future version. Import numpy directly instead\n",
      "  \"Emma\": [2, 3, 2, 3, 2, pd.np.nan]} # a missing value for a movie not watched\n"
     ]
    }
   ],
   "source": [
    "import pandas as pd\n",
    "\n",
    "# create a list of movie titles\n",
    "movies = [\"Dune\", \"The French Dispatch\", \"No Time to Die\", \"The Matrix Resurrections\", \"The Power of the Dog\", \"Belfast\"]\n",
    "\n",
    "# create a dictionary to store the ratings\n",
    "ratings = {\"Alice\": [5, 4, 3, 4, 5, 4],\n",
    "           \"Bob\": [4, 3, 4, 5, 4, 3],\n",
    "           \"Charlie\": [3, 4, 5, 4, 3, 4],\n",
    "           \"Dave\": [4, 5, 4, 3, 4, 5],\n",
    "           \"Emma\": [2, 3, 2, 3, 2, pd.np.nan]} # a missing value for a movie not watched\n",
    "\n",
    "# create the dataframe\n",
    "df = pd.DataFrame(ratings, index=movies)\n",
    "\n",
    "# display the dataframe\n",
    "print(df)\n"
   ]
  },
  {
   "cell_type": "code",
   "execution_count": 22,
   "id": "d79a77de",
   "metadata": {},
   "outputs": [
    {
     "name": "stdout",
     "output_type": "stream",
     "text": [
      "Average ratings by user:\n",
      "Alice      4.166667\n",
      "Bob        3.833333\n",
      "Charlie    3.833333\n",
      "Dave       4.166667\n",
      "Emma       2.400000\n",
      "dtype: float64\n",
      "\n",
      "Average ratings by movie:\n",
      "Dune                        3.6\n",
      "The French Dispatch         3.8\n",
      "No Time to Die              3.6\n",
      "The Matrix Resurrections    3.8\n",
      "The Power of the Dog        3.6\n",
      "Belfast                     4.0\n",
      "dtype: float64\n"
     ]
    }
   ],
   "source": [
    "# calculate the average ratings for each user and each movie\n",
    "user_avg_ratings = df.mean(axis=0)\n",
    "movie_avg_ratings = df.mean(axis=1)\n",
    "\n",
    "# display the average ratings for each user and each movie\n",
    "print(\"Average ratings by user:\")\n",
    "print(user_avg_ratings)\n",
    "print(\"\\nAverage ratings by movie:\")\n",
    "print(movie_avg_ratings)\n"
   ]
  },
  {
   "cell_type": "code",
   "execution_count": 23,
   "id": "705c757d",
   "metadata": {},
   "outputs": [
    {
     "name": "stdout",
     "output_type": "stream",
     "text": [
      "Normalized ratings:\n",
      "                             Alice       Bob   Charlie      Dave      Emma\n",
      "Dune                      1.107019  0.221404 -1.107019 -0.221404 -0.730297\n",
      "The French Dispatch      -0.221404 -1.107019  0.221404  1.107019  1.095445\n",
      "No Time to Die           -1.549826  0.221404  1.549826 -0.221404 -0.730297\n",
      "The Matrix Resurrections -0.221404  1.549826  0.221404 -1.549826  1.095445\n",
      "The Power of the Dog      1.107019  0.221404 -1.107019 -0.221404 -0.730297\n",
      "Belfast                  -0.221404 -1.107019  0.221404  1.107019       NaN\n",
      "\n",
      "Average normalized ratings by user:\n",
      "Alice     -4.070818e-16\n",
      "Bob       -1.850372e-16\n",
      "Charlie   -2.035409e-16\n",
      "Dave      -4.070818e-16\n",
      "Emma       1.554312e-16\n",
      "dtype: float64\n",
      "\n",
      "Average normalized ratings by movie:\n",
      "Dune                       -1.460593e-01\n",
      "The French Dispatch         2.190890e-01\n",
      "No Time to Die             -1.460593e-01\n",
      "The Matrix Resurrections    2.190890e-01\n",
      "The Power of the Dog       -1.460593e-01\n",
      "Belfast                    -3.885781e-16\n",
      "dtype: float64\n"
     ]
    }
   ],
   "source": [
    "# normalize the ratings by subtracting the mean and dividing by the standard deviation for each user\n",
    "normalized_ratings = (df - df.mean()) / df.std()\n",
    "\n",
    "# display the normalized ratings dataframe\n",
    "print(\"Normalized ratings:\")\n",
    "print(normalized_ratings)\n",
    "\n",
    "# calculate the average normalized ratings for each user and each movie\n",
    "user_avg_normalized_ratings = normalized_ratings.mean(axis=0)\n",
    "movie_avg_normalized_ratings = normalized_ratings.mean(axis=1)\n",
    "\n",
    "# display the average normalized ratings for each user and each movie\n",
    "print(\"\\nAverage normalized ratings by user:\")\n",
    "print(user_avg_normalized_ratings)\n",
    "print(\"\\nAverage normalized ratings by movie:\")\n",
    "print(movie_avg_normalized_ratings)\n"
   ]
  },
  {
   "cell_type": "markdown",
   "id": "9220d21c",
   "metadata": {},
   "source": [
    "Normalizing ratings can be advantageous as it allows for fairer comparisons between users and movies, as the ratings are adjusted based on the individual's scale of rating. Normalization can also help to reduce the impact of outlier ratings, by scaling them down to a more reasonable range.\n",
    "\n",
    "However, normalizing ratings can also have some disadvantages. For instance, it may not reflect the true preferences of the user as it scales their ratings to fit a normalized range. Additionally, normalization may not always produce meaningful results if the rating range of different users is not consistent, or if some users have only rated a few movies while others have rated many.\n",
    "\n",
    "In conclusion, while normalizing ratings can help in fairer comparisons, it should be used with caution and not as a sole method of analysis. A combination of both normalized and actual ratings should be considered in order to gain a more accurate understanding of user preferences and movie ratings."
   ]
  },
  {
   "cell_type": "code",
   "execution_count": 24,
   "id": "01beb970",
   "metadata": {},
   "outputs": [
    {
     "name": "stdout",
     "output_type": "stream",
     "text": [
      "Standardized ratings:\n",
      "                             Alice       Bob   Charlie      Dave      Emma\n",
      "Dune                      1.107019  0.221404 -1.107019 -0.221404 -0.730297\n",
      "The French Dispatch      -0.221404 -1.107019  0.221404  1.107019  1.095445\n",
      "No Time to Die           -1.549826  0.221404  1.549826 -0.221404 -0.730297\n",
      "The Matrix Resurrections -0.221404  1.549826  0.221404 -1.549826  1.095445\n",
      "The Power of the Dog      1.107019  0.221404 -1.107019 -0.221404 -0.730297\n",
      "Belfast                  -0.221404 -1.107019  0.221404  1.107019       NaN\n",
      "\n",
      "Average standardized ratings by user:\n",
      "Alice     -4.070818e-16\n",
      "Bob       -1.850372e-16\n",
      "Charlie   -2.035409e-16\n",
      "Dave      -4.070818e-16\n",
      "Emma       1.554312e-16\n",
      "dtype: float64\n",
      "\n",
      "Average standardized ratings by movie:\n",
      "Dune                       -1.460593e-01\n",
      "The French Dispatch         2.190890e-01\n",
      "No Time to Die             -1.460593e-01\n",
      "The Matrix Resurrections    2.190890e-01\n",
      "The Power of the Dog       -1.460593e-01\n",
      "Belfast                    -3.885781e-16\n",
      "dtype: float64\n"
     ]
    }
   ],
   "source": [
    "# standardize the ratings by subtracting the mean and dividing by the standard deviation for each user\n",
    "standardized_ratings = (df - df.mean()) / df.std(ddof=1)\n",
    "\n",
    "# display the standardized ratings dataframe\n",
    "print(\"Standardized ratings:\")\n",
    "print(standardized_ratings)\n",
    "\n",
    "# calculate the average standardized ratings for each user and each movie\n",
    "user_avg_standardized_ratings = standardized_ratings.mean(axis=0)\n",
    "movie_avg_standardized_ratings = standardized_ratings.mean(axis=1)\n",
    "\n",
    "# display the average standardized ratings for each user and each movie\n",
    "print(\"\\nAverage standardized ratings by user:\")\n",
    "print(user_avg_standardized_ratings)\n",
    "print(\"\\nAverage standardized ratings by movie:\")\n",
    "print(movie_avg_standardized_ratings)\n"
   ]
  },
  {
   "cell_type": "code",
   "execution_count": null,
   "id": "2742af33",
   "metadata": {},
   "outputs": [],
   "source": []
  }
 ],
 "metadata": {
  "kernelspec": {
   "display_name": "Python 3 (ipykernel)",
   "language": "python",
   "name": "python3"
  },
  "language_info": {
   "codemirror_mode": {
    "name": "ipython",
    "version": 3
   },
   "file_extension": ".py",
   "mimetype": "text/x-python",
   "name": "python",
   "nbconvert_exporter": "python",
   "pygments_lexer": "ipython3",
   "version": "3.9.7"
  }
 },
 "nbformat": 4,
 "nbformat_minor": 5
}
